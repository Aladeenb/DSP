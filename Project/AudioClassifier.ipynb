{
 "cells": [
  {
   "cell_type": "markdown",
   "id": "fdbf6966",
   "metadata": {},
   "source": [
    "# Title \n",
    "author: LayCodes\n",
    "> Created on Sun May 29 01:00:40 2022"
   ]
  },
  {
   "cell_type": "code",
   "execution_count": null,
   "id": "010daf11",
   "metadata": {},
   "outputs": [],
   "source": [
    "import numpy as np\n",
    "import matplotlib.pyplot as plt\n",
    "from numpy.linalg import norm\n",
    "import soundfile as sf\n",
    "from scipy.signal import spectrogram\n",
    "import glob\n",
    "from matplotlib import style"
   ]
  },
  {
   "cell_type": "code",
   "execution_count": null,
   "id": "358e27c2-8662-4d32-9647-111ffb0bab5f",
   "metadata": {},
   "outputs": [],
   "source": [
    "def classifyMusic(metric) :\n",
    "    songList = glob.glob(\"song-*.wav\")\n",
    "    songList = buildList( songList )\n",
    "    \n",
    "    sampleSig, fs = getSample(\"testSong (Original with reverb and fx).wav\")\n",
    "    \n",
    "    normList = findMatch(sampleSig, songList, metric)\n",
    "    normList.sort()\n",
    "    if metric == \"cosineSimilarity\" :\n",
    "        normList.reverse()  # for cosine similarity, larger is better\n",
    "    \n",
    "    # spectrogram of test song\n",
    "    name = \"testSong (Original with reverb and fx).wav\"\n",
    "    x, fs = sf.read(name)\n",
    "    plt.specgram(x, Fs=fs)\n",
    "    style.use(\"dark_background\")\n",
    "    plt.xlabel(\"f\")\n",
    "    plt.title(name)\n",
    "\n",
    "    # norms and spectrograms of other songs, \n",
    "    #   sorted by how close they match\n",
    "    i = 0\n",
    "    while i < len(normList) :\n",
    "        value, name = normList[i]\n",
    "\n",
    "        plt.figure()\n",
    "        x, fs = sf.read(name)\n",
    "        plt.specgram(x, Fs=fs)\n",
    "        plt.title(\"%s, metric = %.3f\" % (name, value))\n",
    "\n",
    "        i += 1"
   ]
  },
  {
   "cell_type": "code",
   "execution_count": null,
   "id": "ec61ce9c-11b4-4afa-9629-adaf30bb1941",
   "metadata": {},
   "outputs": [],
   "source": [
    "def buildList( songList ) :\n",
    "    d = []\n",
    "\n",
    "    for song in songList :\n",
    "        x, fs = sf.read(song)\n",
    "        sig = findFreq(x, fs)\n",
    "        h = tuple(sig) \n",
    "        d.append([h, song])\n",
    "\n",
    "    return d"
   ]
  },
  {
   "cell_type": "code",
   "execution_count": null,
   "id": "738179e4-65b6-4423-9a26-159b98364263",
   "metadata": {},
   "outputs": [],
   "source": [
    "def findFreq(x, fs) :\n",
    "    #   https://docs.scipy.org/doc/scipy/reference/generated/scipy.signal.spectrogram.html\n",
    "    f, t, Sxx = spectrogram(x, fs=fs, nperseg=fs//2)\n",
    "\n",
    "    signature = buildSig(f, Sxx)\n",
    "\n",
    "    return signature"
   ]
  },
  {
   "cell_type": "code",
   "execution_count": null,
   "id": "d1b4c428-c5bd-4455-a6d4-ee427865196d",
   "metadata": {},
   "outputs": [],
   "source": [
    "def buildSig(f, Sxx) :\n",
    "    #sig = Sxx.max(axis=0) \n",
    "    sig = np.zeros( Sxx.shape[1] )\n",
    "\n",
    "    rows = Sxx.shape[0]\n",
    "    cols = Sxx.shape[1]\n",
    "\n",
    "    c = 0\n",
    "    while c < cols :\n",
    "        colMax = 0\n",
    "        rowIndex = 0\n",
    "        r = 0\n",
    "        while r < rows :\n",
    "            if Sxx[r][c] > colMax :\n",
    "                colMax = Sxx[r][c]\n",
    "                rowIndex = r\n",
    "            r += 1\n",
    "\n",
    "        sig[c] = f[rowIndex]\n",
    "        c += 1\n",
    "\n",
    "    return sig"
   ]
  },
  {
   "cell_type": "code",
   "execution_count": null,
   "id": "de6cc696-f38b-4e1a-95bd-89d858758254",
   "metadata": {},
   "outputs": [],
   "source": [
    "def getSample(name) :\n",
    "    x, fs = sf.read(name)\n",
    "\n",
    "    sig = findFreq(x, fs)\n",
    "    h = tuple(sig)   # use tuple as dictionary key\n",
    "\n",
    "    return h, fs"
   ]
  },
  {
   "cell_type": "code",
   "execution_count": null,
   "id": "154bcf83-e6d6-4b6c-b9f2-4ba4fc2476b3",
   "metadata": {},
   "outputs": [],
   "source": [
    "def findMatch(sampleSig, songList, metric) :\n",
    "    normList = []\n",
    "    sample = np.asarray(sampleSig)\n",
    "    for song in songList :\n",
    "        s = np.asarray( song[0] )\n",
    "        if metric == \"1-norm\" :\n",
    "            result = norm(s - sample, 1)\n",
    "        elif metric == \"2-norm\" :\n",
    "            result = norm(s - sample, 2)\n",
    "        elif metric == \"cosineSimilarity\" :\n",
    "            result = (np.dot(s, sample))/(norm(s)*norm(sample))\n",
    "  \n",
    "        normList.append([result, song[1]])\n",
    "\n",
    "    return normList"
   ]
  },
  {
   "cell_type": "markdown",
   "id": "a69f4d89-aae2-4520-bbfc-01c8b772e1cc",
   "metadata": {},
   "source": [
    "# Main"
   ]
  },
  {
   "cell_type": "code",
   "execution_count": null,
   "id": "9674cddd-9b59-4700-8134-3de8a09d9643",
   "metadata": {},
   "outputs": [],
   "source": [
    "metric = \"cosineSimilarity\"\n",
    "\n",
    "classifyMusic(metric)"
   ]
  }
 ],
 "metadata": {
  "kernelspec": {
   "display_name": "Python 3 (ipykernel)",
   "language": "python",
   "name": "python3"
  },
  "language_info": {
   "codemirror_mode": {
    "name": "ipython",
    "version": 3
   },
   "file_extension": ".py",
   "mimetype": "text/x-python",
   "name": "python",
   "nbconvert_exporter": "python",
   "pygments_lexer": "ipython3",
   "version": "3.9.7"
  }
 },
 "nbformat": 4,
 "nbformat_minor": 5
}
