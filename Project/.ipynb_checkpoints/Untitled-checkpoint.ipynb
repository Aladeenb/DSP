{
 "cells": [
  {
   "cell_type": "markdown",
   "id": "fdbf6966",
   "metadata": {},
   "source": [
    "# Title \n",
    "author: LayCodes\n",
    "> Created on Sun May 29 01:00:40 2022"
   ]
  },
  {
   "cell_type": "code",
   "execution_count": null,
   "id": "010daf11",
   "metadata": {},
   "outputs": [],
   "source": [
    "import numpy as np\n",
    "import matplotlib.pyplot as plt\n",
    "from numpy.linalg import norm\n",
    "import soundfile as sf\n",
    "from scipy.signal import spectrogram\n",
    "import glob"
   ]
  },
  {
   "cell_type": "code",
   "execution_count": null,
   "id": "a27fdc5a",
   "metadata": {},
   "outputs": [],
   "source": [
    "def classifyMusic(metric):\n",
    "    songList = glob.glob(\"song-\".wav)\n",
    "    songList = buildList(songList)\n",
    "    \n",
    "    sampleSig, fs = getSample(\"testSong.wav\")\n",
    "    \n",
    "    normList = findMatch(sampleSig, songList, metric)\n",
    "    normList.sort()\n",
    "    normList.reverse()\n",
    "    \n",
    "    # spectrogram of test song\n",
    "    name = \"testSong.wav\"\n",
    "    x, fs = sf.read(name)\n",
    "    plt.specgram(x, Fs=fs)\n",
    "    plt.title(name)\n",
    "    \n",
    "    # norms and spectrograms of other songs, \n",
    "    #   sorted by how close they match\n",
    "    i = 0\n",
    "    while i < len(normList) :\n",
    "        value, name = normList[i]\n",
    "\n",
    "        plt.figure()\n",
    "        x, fs = sf.read(name)\n",
    "        plt.specgram(x, Fs=fs)\n",
    "        plt.title(\"%s, metric = %.3f\" % (name, value))\n",
    "\n",
    "        i += 1\n",
    "\n",
    "    plt.show()"
   ]
  },
  {
   "cell_type": "code",
   "execution_count": null,
   "id": "81440671",
   "metadata": {},
   "outputs": [],
   "source": [
    "    def buildList(songList): \n",
    "        d = []\n",
    "\n",
    "        for song in songList :\n",
    "            x, fs = sf.read(song)\n",
    "            sig = findFreq(x, fs)\n",
    "            h = tuple(sig) \n",
    "            d.append([h, song])\n",
    "\n",
    "        return d"
   ]
  },
  {
   "cell_type": "code",
   "execution_count": null,
   "id": "894839d4",
   "metadata": {},
   "outputs": [],
   "source": [
    "    def createSig(f, Sxx):\n",
    "        #sig = Sxx.max(axis=0) \n",
    "        sig = np.zeros( Sxx.shape[1] )\n",
    "\n",
    "        rows = Sxx.shape[0]\n",
    "        cols = Sxx.shape[1]\n",
    "\n",
    "        c = 0\n",
    "        while c < cols :\n",
    "            colMax = 0\n",
    "            rowIndex = 0\n",
    "            r = 0\n",
    "            while r < rows :\n",
    "                if Sxx[r][c] > colMax :\n",
    "                    colMax = Sxx[r][c]\n",
    "                    rowIndex = r\n",
    "                r += 1\n",
    "\n",
    "            sig[c] = f[rowIndex]\n",
    "            c += 1\n",
    "\n",
    "        return sig"
   ]
  },
  {
   "cell_type": "code",
   "execution_count": null,
   "id": "e4de3d8e",
   "metadata": {},
   "outputs": [],
   "source": [
    "def findFreq():\n",
    "    #   https://docs.scipy.org/doc/scipy/reference/generated/scipy.signal.spectrogram.html\n",
    "    f, t, Sxx = spectrogram(x, fs=fs, nperseg=fs//2)\n",
    "\n",
    "    signature = buildSig(f, Sxx)\n",
    "\n",
    "    return signature"
   ]
  },
  {
   "cell_type": "code",
   "execution_count": null,
   "id": "27df3751",
   "metadata": {},
   "outputs": [],
   "source": [
    "def getSample(name):\n",
    "    x, fs = sf.read(name)\n",
    "\n",
    "    sig = findFreq(x, fs)\n",
    "    h = tuple(sig)   # use tuple as dictionary key\n",
    "\n",
    "    return h, fs"
   ]
  },
  {
   "cell_type": "code",
   "execution_count": null,
   "id": "d93b49d6",
   "metadata": {},
   "outputs": [],
   "source": [
    "def findMatch(sampleSig, songList, metric) :\n",
    "    normList = []\n",
    "    sample = np.asarray(sampleSig)\n",
    "    for song in songList :\n",
    "        s = np.asarray( song[0] )\n",
    "        metric == \"cosineSimilarity\"\n",
    "        result = (np.dot(s, sample))/(norm(s)*norm(sample))\n",
    "  \n",
    "        normList.append([result, song[1]])\n",
    "\n",
    "    return normList"
   ]
  },
  {
   "cell_type": "code",
   "execution_count": 1,
   "id": "59a51484",
   "metadata": {},
   "outputs": [
    {
     "ename": "NameError",
     "evalue": "name 'mylib' is not defined",
     "output_type": "error",
     "traceback": [
      "\u001b[1;31m---------------------------------------------------------------------------\u001b[0m",
      "\u001b[1;31mNameError\u001b[0m                                 Traceback (most recent call last)",
      "Input \u001b[1;32mIn [1]\u001b[0m, in \u001b[0;36m<cell line: 3>\u001b[1;34m()\u001b[0m\n\u001b[0;32m      1\u001b[0m metric \u001b[38;5;241m=\u001b[39m \u001b[38;5;124m\"\u001b[39m\u001b[38;5;124mcosineSimilarity\u001b[39m\u001b[38;5;124m\"\u001b[39m\n\u001b[1;32m----> 3\u001b[0m \u001b[43mmylib\u001b[49m\u001b[38;5;241m.\u001b[39mclassifyMusic(metric)\n",
      "\u001b[1;31mNameError\u001b[0m: name 'mylib' is not defined"
     ]
    }
   ],
   "source": [
    "metric = \"cosineSimilarity\"\n",
    "\n",
    "mylib.classifyMusic(metric)\n"
   ]
  }
 ],
 "metadata": {
  "kernelspec": {
   "display_name": "Python 3 (ipykernel)",
   "language": "python",
   "name": "python3"
  },
  "language_info": {
   "codemirror_mode": {
    "name": "ipython",
    "version": 3
   },
   "file_extension": ".py",
   "mimetype": "text/x-python",
   "name": "python",
   "nbconvert_exporter": "python",
   "pygments_lexer": "ipython3",
   "version": "3.9.7"
  }
 },
 "nbformat": 4,
 "nbformat_minor": 5
}
